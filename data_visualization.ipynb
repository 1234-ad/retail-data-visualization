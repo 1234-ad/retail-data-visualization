{
 "cells": [
  {
   "cell_type": "markdown",
   "id": "adbb8a5b",
   "metadata": {},
   "source": [
    "# 📊 Retail Data Visualization\n",
    "This notebook performs EDA on the retail dataset."
   ]
  },
  {
   "cell_type": "code",
   "execution_count": null,
   "id": "21f646cf",
   "metadata": {},
   "outputs": [],
   "source": [
    "\n",
    "import pandas as pd\n",
    "\n",
    "df = pd.read_csv(\"retail.csv\")\n",
    "df.head()\n"
   ]
  },
  {
   "cell_type": "markdown",
   "id": "70d323a6",
   "metadata": {},
   "source": [
    "## 📌 Histogram of Price"
   ]
  },
  {
   "cell_type": "code",
   "execution_count": null,
   "id": "413f48a0",
   "metadata": {},
   "outputs": [],
   "source": [
    "\n",
    "import matplotlib.pyplot as plt\n",
    "import seaborn as sns\n",
    "\n",
    "plt.figure(figsize=(8,6))\n",
    "sns.histplot(df['Price'], bins=10, kde=True)\n",
    "plt.title('Distribution of Price')\n",
    "plt.xlabel('Price')\n",
    "plt.ylabel('Frequency')\n",
    "plt.show()\n"
   ]
  },
  {
   "cell_type": "markdown",
   "id": "1a7dec3f",
   "metadata": {},
   "source": [
    "## 📌 Bar Chart of Product Counts"
   ]
  },
  {
   "cell_type": "code",
   "execution_count": null,
   "id": "b3c99e5a",
   "metadata": {},
   "outputs": [],
   "source": [
    "\n",
    "plt.figure(figsize=(8,6))\n",
    "sns.countplot(x='Product', data=df)\n",
    "plt.title('Product Counts')\n",
    "plt.xlabel('Product')\n",
    "plt.ylabel('Count')\n",
    "plt.show()\n"
   ]
  },
  {
   "cell_type": "markdown",
   "id": "fe78c8e5",
   "metadata": {},
   "source": [
    "## 📌 Box Plot of Price"
   ]
  },
  {
   "cell_type": "code",
   "execution_count": null,
   "id": "26992439",
   "metadata": {},
   "outputs": [],
   "source": [
    "\n",
    "plt.figure(figsize=(8,6))\n",
    "sns.boxplot(y='Price', data=df)\n",
    "plt.title('Box Plot of Price')\n",
    "plt.ylabel('Price')\n",
    "plt.show()\n"
   ]
  }
 ],
 "metadata": {},
 "nbformat": 4,
 "nbformat_minor": 5
}
